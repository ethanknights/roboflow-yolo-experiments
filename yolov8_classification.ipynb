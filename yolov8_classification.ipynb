{
  "nbformat": 4,
  "nbformat_minor": 0,
  "metadata": {
    "colab": {
      "provenance": [],
      "gpuType": "T4",
      "authorship_tag": "ABX9TyPTV5x7nnAjtmdCtaT20J06",
      "include_colab_link": true
    },
    "kernelspec": {
      "name": "python3",
      "display_name": "Python 3"
    },
    "language_info": {
      "name": "python"
    },
    "accelerator": "GPU"
  },
  "cells": [
    {
      "cell_type": "markdown",
      "metadata": {
        "id": "view-in-github",
        "colab_type": "text"
      },
      "source": [
        "<a href=\"https://colab.research.google.com/github/ethanknights/roboflow-yolo-experiments/blob/main/yolov8_classification.ipynb\" target=\"_parent\"><img src=\"https://colab.research.google.com/assets/colab-badge.svg\" alt=\"Open In Colab\"/></a>"
      ]
    },
    {
      "cell_type": "code",
      "execution_count": 2,
      "metadata": {
        "colab": {
          "base_uri": "https://localhost:8080/"
        },
        "id": "w-hUQgKerToL",
        "outputId": "7ada4dd0-3396-43c7-c019-d6f929eb21d1"
      },
      "outputs": [
        {
          "output_type": "stream",
          "name": "stdout",
          "text": [
            "Wed May 15 09:58:50 2024       \n",
            "+---------------------------------------------------------------------------------------+\n",
            "| NVIDIA-SMI 535.104.05             Driver Version: 535.104.05   CUDA Version: 12.2     |\n",
            "|-----------------------------------------+----------------------+----------------------+\n",
            "| GPU  Name                 Persistence-M | Bus-Id        Disp.A | Volatile Uncorr. ECC |\n",
            "| Fan  Temp   Perf          Pwr:Usage/Cap |         Memory-Usage | GPU-Util  Compute M. |\n",
            "|                                         |                      |               MIG M. |\n",
            "|=========================================+======================+======================|\n",
            "|   0  Tesla T4                       Off | 00000000:00:04.0 Off |                    0 |\n",
            "| N/A   39C    P8               9W /  70W |      0MiB / 15360MiB |      0%      Default |\n",
            "|                                         |                      |                  N/A |\n",
            "+-----------------------------------------+----------------------+----------------------+\n",
            "                                                                                         \n",
            "+---------------------------------------------------------------------------------------+\n",
            "| Processes:                                                                            |\n",
            "|  GPU   GI   CI        PID   Type   Process name                            GPU Memory |\n",
            "|        ID   ID                                                             Usage      |\n",
            "|=======================================================================================|\n",
            "|  No running processes found                                                           |\n",
            "+---------------------------------------------------------------------------------------+\n"
          ]
        }
      ],
      "source": [
        "!nvidia-smi"
      ]
    },
    {
      "cell_type": "code",
      "source": [
        "import os\n",
        "HOME = os.getcwd()\n",
        "print(HOME)"
      ],
      "metadata": {
        "colab": {
          "base_uri": "https://localhost:8080/"
        },
        "id": "Z-TEC1KhsHhM",
        "outputId": "e8d53b89-0b0d-4894-ac5c-99967fbf48bf"
      },
      "execution_count": 1,
      "outputs": [
        {
          "output_type": "stream",
          "name": "stdout",
          "text": [
            "/content\n"
          ]
        }
      ]
    },
    {
      "cell_type": "code",
      "source": [
        "# Pip install method (recommended)\n",
        "\n",
        "!pip install ultralytics\n",
        "\n",
        "from IPython import display\n",
        "display.clear_output()\n",
        "\n",
        "import ultralytics\n",
        "ultralytics.checks()"
      ],
      "metadata": {
        "colab": {
          "base_uri": "https://localhost:8080/"
        },
        "id": "T53xJ-OpsH-h",
        "outputId": "8c5a1044-9fb6-454d-912f-658c40ceba8a"
      },
      "execution_count": 3,
      "outputs": [
        {
          "output_type": "stream",
          "name": "stdout",
          "text": [
            "Ultralytics YOLOv8.2.15 🚀 Python-3.10.12 torch-2.2.1+cu121 CUDA:0 (Tesla T4, 15102MiB)\n",
            "Setup complete ✅ (2 CPUs, 12.7 GB RAM, 29.8/78.2 GB disk)\n"
          ]
        }
      ]
    },
    {
      "cell_type": "code",
      "source": [
        "from ultralytics import YOLO\n",
        "\n",
        "from IPython.display import display, Image"
      ],
      "metadata": {
        "id": "_cpIT5UusIFi"
      },
      "execution_count": 5,
      "outputs": []
    },
    {
      "cell_type": "code",
      "source": [
        "model = YOLO(f'{HOME}/yolov8n-cls.pt')\n",
        "results = model.predict(source='https://media.roboflow.com/notebooks/examples/dog.jpeg', conf=0.25)"
      ],
      "metadata": {
        "colab": {
          "base_uri": "https://localhost:8080/"
        },
        "id": "jSMFRjPxsIV8",
        "outputId": "fd63e2a2-31eb-4b64-feeb-a74041c1cd93"
      },
      "execution_count": 6,
      "outputs": [
        {
          "output_type": "stream",
          "name": "stdout",
          "text": [
            "Downloading https://github.com/ultralytics/assets/releases/download/v8.2.0/yolov8n-cls.pt to '/content/yolov8n-cls.pt'...\n"
          ]
        },
        {
          "output_type": "stream",
          "name": "stderr",
          "text": [
            "100%|██████████| 5.30M/5.30M [00:00<00:00, 62.4MB/s]\n"
          ]
        },
        {
          "output_type": "stream",
          "name": "stdout",
          "text": [
            "\n",
            "Downloading https://media.roboflow.com/notebooks/examples/dog.jpeg to 'dog.jpeg'...\n"
          ]
        },
        {
          "output_type": "stream",
          "name": "stderr",
          "text": [
            "100%|██████████| 104k/104k [00:00<00:00, 56.3MB/s]\n"
          ]
        },
        {
          "output_type": "stream",
          "name": "stdout",
          "text": [
            "image 1/1 /content/dog.jpeg: 224x224 seat_belt 0.28, Walker_hound 0.24, beagle 0.15, basset 0.11, Labrador_retriever 0.04, 3.4ms\n",
            "Speed: 80.6ms preprocess, 3.4ms inference, 0.1ms postprocess per image at shape (1, 3, 224, 224)\n"
          ]
        }
      ]
    },
    {
      "cell_type": "code",
      "source": [
        "from getpass import getpass\n",
        "rf_api_key = getpass(\"Please enter your Roboflow API key: \")"
      ],
      "metadata": {
        "colab": {
          "base_uri": "https://localhost:8080/"
        },
        "id": "m4NdhSS1tOn2",
        "outputId": "e75b3ec3-8751-48db-a8d4-b7f1590ab43d"
      },
      "execution_count": 13,
      "outputs": [
        {
          "name": "stdout",
          "output_type": "stream",
          "text": [
            "Please enter your Roboflow API key: ··········\n"
          ]
        }
      ]
    },
    {
      "cell_type": "code",
      "source": [
        "!mkdir {HOME}/datasets\n",
        "%cd {HOME}/datasets\n",
        "\n",
        "!pip install roboflow --quiet\n",
        "\n",
        "from roboflow import Roboflow\n",
        "rf = Roboflow(api_key=rf_api_key)\n",
        "project = rf.workspace(\"westminster-city-council-rk0d9\").project(\"report-it-highways\")\n",
        "dataset = project.version(1).download(\"folder\")"
      ],
      "metadata": {
        "colab": {
          "base_uri": "https://localhost:8080/"
        },
        "id": "nGrBwn2rsIcd",
        "outputId": "66d2b9d4-d5d6-48d2-d2ad-5bb38c1fddea"
      },
      "execution_count": 14,
      "outputs": [
        {
          "output_type": "stream",
          "name": "stdout",
          "text": [
            "mkdir: cannot create directory ‘/content/datasets’: File exists\n",
            "/content/datasets\n",
            "loading Roboflow workspace...\n",
            "loading Roboflow project...\n",
            "Exporting format folder in progress : 85.0%\n",
            "Version export complete for folder format\n"
          ]
        },
        {
          "output_type": "stream",
          "name": "stderr",
          "text": [
            "Downloading Dataset Version Zip in report-it-highways-1 to folder:: 100%|██████████| 700531/700531 [00:13<00:00, 50846.76it/s]"
          ]
        },
        {
          "output_type": "stream",
          "name": "stdout",
          "text": [
            "\n"
          ]
        },
        {
          "output_type": "stream",
          "name": "stderr",
          "text": [
            "\n",
            "Extracting Dataset Version Zip to report-it-highways-1 in folder:: 100%|██████████| 9660/9660 [00:05<00:00, 1730.85it/s]\n"
          ]
        }
      ]
    },
    {
      "cell_type": "code",
      "source": [
        "# print(dataset)\n",
        "\n",
        "!yolo task=classify mode=train model=yolov8n-cls.pt data={dataset.location} epochs=50 imgsz=128"
      ],
      "metadata": {
        "colab": {
          "base_uri": "https://localhost:8080/"
        },
        "id": "mJVOcr3ksIiX",
        "outputId": "a5538986-00e0-40c3-ed28-df4fefb331a6"
      },
      "execution_count": 17,
      "outputs": [
        {
          "output_type": "stream",
          "name": "stdout",
          "text": [
            "Downloading https://github.com/ultralytics/assets/releases/download/v8.2.0/yolov8n-cls.pt to 'yolov8n-cls.pt'...\n",
            "100% 5.30M/5.30M [00:00<00:00, 73.1MB/s]\n",
            "Ultralytics YOLOv8.2.15 🚀 Python-3.10.12 torch-2.2.1+cu121 CUDA:0 (Tesla T4, 15102MiB)\n",
            "\u001b[34m\u001b[1mengine/trainer: \u001b[0mtask=classify, mode=train, model=yolov8n-cls.pt, data=/content/datasets/report-it-highways-1, epochs=50, time=None, patience=100, batch=16, imgsz=128, save=True, save_period=-1, cache=False, device=None, workers=8, project=None, name=train, exist_ok=False, pretrained=True, optimizer=auto, verbose=True, seed=0, deterministic=True, single_cls=False, rect=False, cos_lr=False, close_mosaic=10, resume=False, amp=True, fraction=1.0, profile=False, freeze=None, multi_scale=False, overlap_mask=True, mask_ratio=4, dropout=0.0, val=True, split=val, save_json=False, save_hybrid=False, conf=None, iou=0.7, max_det=300, half=False, dnn=False, plots=True, source=None, vid_stride=1, stream_buffer=False, visualize=False, augment=False, agnostic_nms=False, classes=None, retina_masks=False, embed=None, show=False, save_frames=False, save_txt=False, save_conf=False, save_crop=False, show_labels=True, show_conf=True, show_boxes=True, line_width=None, format=torchscript, keras=False, optimize=False, int8=False, dynamic=False, simplify=False, opset=None, workspace=4, nms=False, lr0=0.01, lrf=0.01, momentum=0.937, weight_decay=0.0005, warmup_epochs=3.0, warmup_momentum=0.8, warmup_bias_lr=0.1, box=7.5, cls=0.5, dfl=1.5, pose=12.0, kobj=1.0, label_smoothing=0.0, nbs=64, hsv_h=0.015, hsv_s=0.7, hsv_v=0.4, degrees=0.0, translate=0.1, scale=0.5, shear=0.0, perspective=0.0, flipud=0.0, fliplr=0.5, bgr=0.0, mosaic=1.0, mixup=0.0, copy_paste=0.0, auto_augment=randaugment, erasing=0.4, crop_fraction=1.0, cfg=None, tracker=botsort.yaml, save_dir=runs/classify/train\n",
            "\u001b[34m\u001b[1mtrain:\u001b[0m /content/datasets/report-it-highways-1/train... found 6741 images in 5 classes ✅ \n",
            "\u001b[34m\u001b[1mval:\u001b[0m None...\n",
            "\u001b[34m\u001b[1mtest:\u001b[0m /content/datasets/report-it-highways-1/test... found 971 images in 5 classes ✅ \n",
            "2024-05-15 10:09:40.876376: E external/local_xla/xla/stream_executor/cuda/cuda_dnn.cc:9261] Unable to register cuDNN factory: Attempting to register factory for plugin cuDNN when one has already been registered\n",
            "2024-05-15 10:09:40.876441: E external/local_xla/xla/stream_executor/cuda/cuda_fft.cc:607] Unable to register cuFFT factory: Attempting to register factory for plugin cuFFT when one has already been registered\n",
            "2024-05-15 10:09:40.990876: E external/local_xla/xla/stream_executor/cuda/cuda_blas.cc:1515] Unable to register cuBLAS factory: Attempting to register factory for plugin cuBLAS when one has already been registered\n",
            "Overriding model.yaml nc=1000 with nc=5\n",
            "\n",
            "                   from  n    params  module                                       arguments                     \n",
            "  0                  -1  1       464  ultralytics.nn.modules.conv.Conv             [3, 16, 3, 2]                 \n",
            "  1                  -1  1      4672  ultralytics.nn.modules.conv.Conv             [16, 32, 3, 2]                \n",
            "  2                  -1  1      7360  ultralytics.nn.modules.block.C2f             [32, 32, 1, True]             \n",
            "  3                  -1  1     18560  ultralytics.nn.modules.conv.Conv             [32, 64, 3, 2]                \n",
            "  4                  -1  2     49664  ultralytics.nn.modules.block.C2f             [64, 64, 2, True]             \n",
            "  5                  -1  1     73984  ultralytics.nn.modules.conv.Conv             [64, 128, 3, 2]               \n",
            "  6                  -1  2    197632  ultralytics.nn.modules.block.C2f             [128, 128, 2, True]           \n",
            "  7                  -1  1    295424  ultralytics.nn.modules.conv.Conv             [128, 256, 3, 2]              \n",
            "  8                  -1  1    460288  ultralytics.nn.modules.block.C2f             [256, 256, 1, True]           \n",
            "  9                  -1  1    336645  ultralytics.nn.modules.head.Classify         [256, 5]                      \n",
            "YOLOv8n-cls summary: 99 layers, 1444693 parameters, 1444693 gradients, 3.4 GFLOPs\n",
            "Transferred 156/158 items from pretrained weights\n",
            "\u001b[34m\u001b[1mTensorBoard: \u001b[0mStart with 'tensorboard --logdir runs/classify/train', view at http://localhost:6006/\n",
            "\u001b[34m\u001b[1mAMP: \u001b[0mrunning Automatic Mixed Precision (AMP) checks with YOLOv8n...\n",
            "Downloading https://github.com/ultralytics/assets/releases/download/v8.2.0/yolov8n.pt to 'yolov8n.pt'...\n",
            "100% 6.23M/6.23M [00:00<00:00, 74.9MB/s]\n",
            "\u001b[34m\u001b[1mAMP: \u001b[0mchecks passed ✅\n",
            "\u001b[34m\u001b[1mtrain: \u001b[0mScanning /content/datasets/report-it-highways-1/train... 6741 images, 0 corrupt: 100% 6741/6741 [00:01<00:00, 4967.05it/s]\n",
            "\u001b[34m\u001b[1mtrain: \u001b[0mNew cache created: /content/datasets/report-it-highways-1/train.cache\n",
            "/usr/lib/python3.10/multiprocessing/popen_fork.py:66: RuntimeWarning: os.fork() was called. os.fork() is incompatible with multithreaded code, and JAX is multithreaded, so this will likely lead to a deadlock.\n",
            "  self.pid = os.fork()\n",
            "\u001b[34m\u001b[1mval: \u001b[0mScanning /content/datasets/report-it-highways-1/test... 971 images, 0 corrupt: 100% 971/971 [00:00<00:00, 3909.63it/s]\n",
            "\u001b[34m\u001b[1mval: \u001b[0mNew cache created: /content/datasets/report-it-highways-1/test.cache\n",
            "\u001b[34m\u001b[1moptimizer:\u001b[0m 'optimizer=auto' found, ignoring 'lr0=0.01' and 'momentum=0.937' and determining best 'optimizer', 'lr0' and 'momentum' automatically... \n",
            "\u001b[34m\u001b[1moptimizer:\u001b[0m AdamW(lr=0.000714, momentum=0.9) with parameter groups 26 weight(decay=0.0), 27 weight(decay=0.0005), 27 bias(decay=0.0)\n",
            "\u001b[34m\u001b[1mTensorBoard: \u001b[0mmodel graph visualization added ✅\n",
            "Image sizes 128 train, 128 val\n",
            "Using 2 dataloader workers\n",
            "Logging results to \u001b[1mruns/classify/train\u001b[0m\n",
            "Starting training for 50 epochs...\n",
            "\n",
            "      Epoch    GPU_mem       loss  Instances       Size\n",
            "       1/50     0.398G      1.748         16        128:   1% 6/422 [00:01<01:19,  5.25it/s]Downloading https://ultralytics.com/assets/Arial.ttf to '/root/.config/Ultralytics/Arial.ttf'...\n",
            "       1/50     0.398G      1.678         16        128:   3% 12/422 [00:02<01:09,  5.93it/s]\n",
            "100% 755k/755k [00:00<00:00, 16.7MB/s]\n",
            "       1/50     0.401G       1.27          5        128: 100% 422/422 [01:17<00:00,  5.42it/s]\n",
            "               classes   top1_acc   top5_acc: 100% 31/31 [00:07<00:00,  4.01it/s]\n",
            "                   all      0.629          1\n",
            "\n",
            "      Epoch    GPU_mem       loss  Instances       Size\n",
            "       2/50      0.38G     0.9744          5        128: 100% 422/422 [01:19<00:00,  5.32it/s]\n",
            "               classes   top1_acc   top5_acc: 100% 31/31 [00:06<00:00,  4.58it/s]\n",
            "                   all      0.649          1\n",
            "\n",
            "      Epoch    GPU_mem       loss  Instances       Size\n",
            "       3/50      0.38G     0.9261          5        128: 100% 422/422 [01:14<00:00,  5.65it/s]\n",
            "               classes   top1_acc   top5_acc: 100% 31/31 [00:08<00:00,  3.65it/s]\n",
            "                   all      0.662          1\n",
            "\n",
            "      Epoch    GPU_mem       loss  Instances       Size\n",
            "       4/50      0.38G     0.8916          5        128: 100% 422/422 [01:14<00:00,  5.69it/s]\n",
            "               classes   top1_acc   top5_acc: 100% 31/31 [00:09<00:00,  3.42it/s]\n",
            "                   all      0.674          1\n",
            "\n",
            "      Epoch    GPU_mem       loss  Instances       Size\n",
            "       5/50      0.38G     0.8524          5        128: 100% 422/422 [01:13<00:00,  5.75it/s]\n",
            "               classes   top1_acc   top5_acc: 100% 31/31 [00:10<00:00,  2.85it/s]\n",
            "                   all      0.673          1\n",
            "\n",
            "      Epoch    GPU_mem       loss  Instances       Size\n",
            "       6/50      0.38G      0.818          5        128: 100% 422/422 [01:15<00:00,  5.61it/s]\n",
            "               classes   top1_acc   top5_acc: 100% 31/31 [00:07<00:00,  4.11it/s]\n",
            "                   all       0.68          1\n",
            "\n",
            "      Epoch    GPU_mem       loss  Instances       Size\n",
            "       7/50      0.38G     0.7855          5        128: 100% 422/422 [01:14<00:00,  5.67it/s]\n",
            "               classes   top1_acc   top5_acc: 100% 31/31 [00:08<00:00,  3.61it/s]\n",
            "                   all      0.694          1\n",
            "\n",
            "      Epoch    GPU_mem       loss  Instances       Size\n",
            "       8/50      0.38G     0.7529          5        128: 100% 422/422 [01:13<00:00,  5.72it/s]\n",
            "               classes   top1_acc   top5_acc: 100% 31/31 [00:09<00:00,  3.24it/s]\n",
            "                   all       0.68          1\n",
            "\n",
            "      Epoch    GPU_mem       loss  Instances       Size\n",
            "       9/50      0.38G     0.7446          5        128: 100% 422/422 [01:17<00:00,  5.43it/s]\n",
            "               classes   top1_acc   top5_acc: 100% 31/31 [00:09<00:00,  3.43it/s]\n",
            "                   all      0.677          1\n",
            "\n",
            "      Epoch    GPU_mem       loss  Instances       Size\n",
            "      10/50      0.38G     0.6942          5        128: 100% 422/422 [01:12<00:00,  5.79it/s]\n",
            "               classes   top1_acc   top5_acc: 100% 31/31 [00:09<00:00,  3.24it/s]\n",
            "                   all      0.687          1\n",
            "\n",
            "      Epoch    GPU_mem       loss  Instances       Size\n",
            "      11/50      0.38G     0.6747          5        128: 100% 422/422 [01:13<00:00,  5.77it/s]\n",
            "               classes   top1_acc   top5_acc: 100% 31/31 [00:09<00:00,  3.15it/s]\n",
            "                   all      0.681          1\n",
            "\n",
            "      Epoch    GPU_mem       loss  Instances       Size\n",
            "      12/50      0.38G     0.6529          5        128: 100% 422/422 [01:13<00:00,  5.78it/s]\n",
            "               classes   top1_acc   top5_acc: 100% 31/31 [00:09<00:00,  3.21it/s]\n",
            "                   all      0.686          1\n",
            "\n",
            "      Epoch    GPU_mem       loss  Instances       Size\n",
            "      13/50      0.38G     0.6318          5        128: 100% 422/422 [01:15<00:00,  5.57it/s]\n",
            "               classes   top1_acc   top5_acc: 100% 31/31 [00:09<00:00,  3.21it/s]\n",
            "                   all      0.692          1\n",
            "\n",
            "      Epoch    GPU_mem       loss  Instances       Size\n",
            "      14/50      0.38G     0.6179          5        128: 100% 422/422 [01:12<00:00,  5.83it/s]\n",
            "               classes   top1_acc   top5_acc: 100% 31/31 [00:10<00:00,  3.04it/s]\n",
            "                   all      0.691          1\n",
            "\n",
            "      Epoch    GPU_mem       loss  Instances       Size\n",
            "      15/50      0.38G     0.5936          5        128: 100% 422/422 [01:15<00:00,  5.63it/s]\n",
            "               classes   top1_acc   top5_acc: 100% 31/31 [00:09<00:00,  3.24it/s]\n",
            "                   all      0.676          1\n",
            "\n",
            "      Epoch    GPU_mem       loss  Instances       Size\n",
            "      16/50      0.38G     0.5631          5        128: 100% 422/422 [01:13<00:00,  5.78it/s]\n",
            "               classes   top1_acc   top5_acc: 100% 31/31 [00:11<00:00,  2.60it/s]\n",
            "                   all      0.671          1\n",
            "\n",
            "      Epoch    GPU_mem       loss  Instances       Size\n",
            "      17/50      0.38G     0.5491          5        128: 100% 422/422 [01:11<00:00,  5.87it/s]\n",
            "               classes   top1_acc   top5_acc: 100% 31/31 [00:07<00:00,  4.07it/s]\n",
            "                   all      0.687          1\n",
            "\n",
            "      Epoch    GPU_mem       loss  Instances       Size\n",
            "      18/50      0.38G     0.5445          5        128: 100% 422/422 [01:13<00:00,  5.74it/s]\n",
            "               classes   top1_acc   top5_acc: 100% 31/31 [00:06<00:00,  4.55it/s]\n",
            "                   all      0.698          1\n",
            "\n",
            "      Epoch    GPU_mem       loss  Instances       Size\n",
            "      19/50      0.38G     0.5241          5        128: 100% 422/422 [01:14<00:00,  5.65it/s]\n",
            "               classes   top1_acc   top5_acc: 100% 31/31 [00:06<00:00,  4.51it/s]\n",
            "                   all      0.677          1\n",
            "\n",
            "      Epoch    GPU_mem       loss  Instances       Size\n",
            "      20/50      0.38G     0.5086          5        128: 100% 422/422 [01:18<00:00,  5.36it/s]\n",
            "               classes   top1_acc   top5_acc: 100% 31/31 [00:06<00:00,  4.54it/s]\n",
            "                   all      0.678          1\n",
            "\n",
            "      Epoch    GPU_mem       loss  Instances       Size\n",
            "      21/50      0.38G     0.4931          5        128: 100% 422/422 [01:15<00:00,  5.61it/s]\n",
            "               classes   top1_acc   top5_acc: 100% 31/31 [00:07<00:00,  4.30it/s]\n",
            "                   all      0.686          1\n",
            "\n",
            "      Epoch    GPU_mem       loss  Instances       Size\n",
            "      22/50      0.38G     0.4831          5        128: 100% 422/422 [01:13<00:00,  5.72it/s]\n",
            "               classes   top1_acc   top5_acc: 100% 31/31 [00:08<00:00,  3.69it/s]\n",
            "                   all      0.679          1\n",
            "\n",
            "      Epoch    GPU_mem       loss  Instances       Size\n",
            "      23/50      0.38G     0.4576          5        128: 100% 422/422 [01:12<00:00,  5.82it/s]\n",
            "               classes   top1_acc   top5_acc: 100% 31/31 [00:09<00:00,  3.26it/s]\n",
            "                   all      0.679          1\n",
            "\n",
            "      Epoch    GPU_mem       loss  Instances       Size\n",
            "      24/50      0.38G     0.4543          5        128: 100% 422/422 [01:17<00:00,  5.45it/s]\n",
            "               classes   top1_acc   top5_acc: 100% 31/31 [00:08<00:00,  3.72it/s]\n",
            "                   all      0.688          1\n",
            "\n",
            "      Epoch    GPU_mem       loss  Instances       Size\n",
            "      25/50      0.38G     0.4336          5        128: 100% 422/422 [01:12<00:00,  5.79it/s]\n",
            "               classes   top1_acc   top5_acc: 100% 31/31 [00:09<00:00,  3.40it/s]\n",
            "                   all      0.689          1\n",
            "\n",
            "      Epoch    GPU_mem       loss  Instances       Size\n",
            "      26/50      0.38G     0.4111          5        128: 100% 422/422 [01:12<00:00,  5.81it/s]\n",
            "               classes   top1_acc   top5_acc: 100% 31/31 [00:09<00:00,  3.19it/s]\n",
            "                   all      0.679          1\n",
            "\n",
            "      Epoch    GPU_mem       loss  Instances       Size\n",
            "      27/50      0.38G     0.4158          5        128: 100% 422/422 [01:16<00:00,  5.54it/s]\n",
            "               classes   top1_acc   top5_acc: 100% 31/31 [00:09<00:00,  3.43it/s]\n",
            "                   all      0.696          1\n",
            "\n",
            "      Epoch    GPU_mem       loss  Instances       Size\n",
            "      28/50      0.38G     0.4091          5        128: 100% 422/422 [01:11<00:00,  5.89it/s]\n",
            "               classes   top1_acc   top5_acc: 100% 31/31 [00:09<00:00,  3.16it/s]\n",
            "                   all      0.686          1\n",
            "\n",
            "      Epoch    GPU_mem       loss  Instances       Size\n",
            "      29/50      0.38G     0.4034          5        128: 100% 422/422 [01:12<00:00,  5.85it/s]\n",
            "               classes   top1_acc   top5_acc: 100% 31/31 [00:09<00:00,  3.10it/s]\n",
            "                   all      0.689          1\n",
            "\n",
            "      Epoch    GPU_mem       loss  Instances       Size\n",
            "      30/50      0.38G     0.3796          5        128: 100% 422/422 [01:12<00:00,  5.80it/s]\n",
            "               classes   top1_acc   top5_acc: 100% 31/31 [00:08<00:00,  3.72it/s]\n",
            "                   all      0.688          1\n",
            "\n",
            "      Epoch    GPU_mem       loss  Instances       Size\n",
            "      31/50      0.38G     0.3639          5        128: 100% 422/422 [01:16<00:00,  5.55it/s]\n",
            "               classes   top1_acc   top5_acc: 100% 31/31 [00:06<00:00,  4.56it/s]\n",
            "                   all        0.7          1\n",
            "\n",
            "      Epoch    GPU_mem       loss  Instances       Size\n",
            "      32/50      0.38G     0.3663          5        128: 100% 422/422 [01:15<00:00,  5.61it/s]\n",
            "               classes   top1_acc   top5_acc: 100% 31/31 [00:06<00:00,  4.49it/s]\n",
            "                   all       0.69          1\n",
            "\n",
            "      Epoch    GPU_mem       loss  Instances       Size\n",
            "      33/50      0.38G     0.3534          5        128: 100% 422/422 [01:15<00:00,  5.61it/s]\n",
            "               classes   top1_acc   top5_acc: 100% 31/31 [00:07<00:00,  4.04it/s]\n",
            "                   all      0.687          1\n",
            "\n",
            "      Epoch    GPU_mem       loss  Instances       Size\n",
            "      34/50      0.38G     0.3433          5        128: 100% 422/422 [01:13<00:00,  5.73it/s]\n",
            "               classes   top1_acc   top5_acc: 100% 31/31 [00:11<00:00,  2.71it/s]\n",
            "                   all      0.682          1\n",
            "\n",
            "      Epoch    GPU_mem       loss  Instances       Size\n",
            "      35/50      0.38G      0.337          5        128: 100% 422/422 [01:13<00:00,  5.78it/s]\n",
            "               classes   top1_acc   top5_acc: 100% 31/31 [00:09<00:00,  3.28it/s]\n",
            "                   all      0.683          1\n",
            "\n",
            "      Epoch    GPU_mem       loss  Instances       Size\n",
            "      36/50      0.38G     0.3226          5        128: 100% 422/422 [01:13<00:00,  5.73it/s]\n",
            "               classes   top1_acc   top5_acc: 100% 31/31 [00:09<00:00,  3.14it/s]\n",
            "                   all      0.694          1\n",
            "\n",
            "      Epoch    GPU_mem       loss  Instances       Size\n",
            "      37/50      0.38G     0.3213          5        128: 100% 422/422 [01:12<00:00,  5.82it/s]\n",
            "               classes   top1_acc   top5_acc: 100% 31/31 [00:09<00:00,  3.19it/s]\n",
            "                   all      0.683          1\n",
            "\n",
            "      Epoch    GPU_mem       loss  Instances       Size\n",
            "      38/50      0.38G     0.3096          5        128: 100% 422/422 [01:13<00:00,  5.71it/s]\n",
            "               classes   top1_acc   top5_acc: 100% 31/31 [00:08<00:00,  3.76it/s]\n",
            "                   all      0.679          1\n",
            "\n",
            "      Epoch    GPU_mem       loss  Instances       Size\n",
            "      39/50      0.38G     0.3058          5        128: 100% 422/422 [01:13<00:00,  5.78it/s]\n",
            "               classes   top1_acc   top5_acc: 100% 31/31 [00:08<00:00,  3.70it/s]\n",
            "                   all      0.685          1\n",
            "\n",
            "      Epoch    GPU_mem       loss  Instances       Size\n",
            "      40/50      0.38G     0.3081          5        128: 100% 422/422 [01:14<00:00,  5.69it/s]\n",
            "               classes   top1_acc   top5_acc: 100% 31/31 [00:08<00:00,  3.86it/s]\n",
            "                   all       0.68          1\n",
            "/usr/lib/python3.10/multiprocessing/popen_fork.py:66: RuntimeWarning: os.fork() was called. os.fork() is incompatible with multithreaded code, and JAX is multithreaded, so this will likely lead to a deadlock.\n",
            "  self.pid = os.fork()\n",
            "\n",
            "      Epoch    GPU_mem       loss  Instances       Size\n",
            "      41/50      0.38G     0.2878          5        128: 100% 422/422 [01:14<00:00,  5.64it/s]\n",
            "               classes   top1_acc   top5_acc: 100% 31/31 [00:09<00:00,  3.14it/s]\n",
            "                   all      0.687          1\n",
            "\n",
            "      Epoch    GPU_mem       loss  Instances       Size\n",
            "      42/50      0.38G     0.2905          5        128: 100% 422/422 [01:15<00:00,  5.55it/s]\n",
            "               classes   top1_acc   top5_acc: 100% 31/31 [00:09<00:00,  3.25it/s]\n",
            "                   all      0.687          1\n",
            "\n",
            "      Epoch    GPU_mem       loss  Instances       Size\n",
            "      43/50      0.38G     0.2688          5        128: 100% 422/422 [01:12<00:00,  5.82it/s]\n",
            "               classes   top1_acc   top5_acc: 100% 31/31 [00:09<00:00,  3.18it/s]\n",
            "                   all      0.693          1\n",
            "\n",
            "      Epoch    GPU_mem       loss  Instances       Size\n",
            "      44/50      0.38G     0.2699          5        128: 100% 422/422 [01:12<00:00,  5.79it/s]\n",
            "               classes   top1_acc   top5_acc: 100% 31/31 [00:09<00:00,  3.12it/s]\n",
            "                   all      0.708          1\n",
            "\n",
            "      Epoch    GPU_mem       loss  Instances       Size\n",
            "      45/50      0.38G     0.2707          5        128: 100% 422/422 [01:15<00:00,  5.58it/s]\n",
            "               classes   top1_acc   top5_acc: 100% 31/31 [00:09<00:00,  3.25it/s]\n",
            "                   all      0.699          1\n",
            "\n",
            "      Epoch    GPU_mem       loss  Instances       Size\n",
            "      46/50      0.38G     0.2649          5        128: 100% 422/422 [01:13<00:00,  5.72it/s]\n",
            "               classes   top1_acc   top5_acc: 100% 31/31 [00:09<00:00,  3.30it/s]\n",
            "                   all      0.696          1\n",
            "\n",
            "      Epoch    GPU_mem       loss  Instances       Size\n",
            "      47/50      0.38G     0.2608          5        128: 100% 422/422 [01:12<00:00,  5.81it/s]\n",
            "               classes   top1_acc   top5_acc: 100% 31/31 [00:09<00:00,  3.31it/s]\n",
            "                   all      0.694          1\n",
            "\n",
            "      Epoch    GPU_mem       loss  Instances       Size\n",
            "      48/50      0.38G     0.2587          5        128: 100% 422/422 [01:13<00:00,  5.76it/s]\n",
            "               classes   top1_acc   top5_acc: 100% 31/31 [00:09<00:00,  3.24it/s]\n",
            "                   all      0.692          1\n",
            "\n",
            "      Epoch    GPU_mem       loss  Instances       Size\n",
            "      49/50      0.38G     0.2464          5        128: 100% 422/422 [01:17<00:00,  5.44it/s]\n",
            "               classes   top1_acc   top5_acc: 100% 31/31 [00:07<00:00,  3.99it/s]\n",
            "                   all      0.689          1\n",
            "\n",
            "      Epoch    GPU_mem       loss  Instances       Size\n",
            "      50/50      0.38G     0.2608          5        128: 100% 422/422 [01:14<00:00,  5.67it/s]\n",
            "               classes   top1_acc   top5_acc: 100% 31/31 [00:07<00:00,  3.93it/s]\n",
            "                   all      0.692          1\n",
            "\n",
            "50 epochs completed in 1.169 hours.\n",
            "Optimizer stripped from runs/classify/train/weights/last.pt, 3.0MB\n",
            "Optimizer stripped from runs/classify/train/weights/best.pt, 3.0MB\n",
            "\n",
            "Validating runs/classify/train/weights/best.pt...\n",
            "Ultralytics YOLOv8.2.15 🚀 Python-3.10.12 torch-2.2.1+cu121 CUDA:0 (Tesla T4, 15102MiB)\n",
            "YOLOv8n-cls summary (fused): 73 layers, 1441285 parameters, 0 gradients, 3.3 GFLOPs\n",
            "WARNING ⚠️ Dataset 'split=val' not found, using 'split=test' instead.\n",
            "\u001b[34m\u001b[1mtrain:\u001b[0m /content/datasets/report-it-highways-1/train... found 6741 images in 5 classes ✅ \n",
            "\u001b[34m\u001b[1mval:\u001b[0m None...\n",
            "\u001b[34m\u001b[1mtest:\u001b[0m /content/datasets/report-it-highways-1/test... found 971 images in 5 classes ✅ \n",
            "               classes   top1_acc   top5_acc: 100% 31/31 [00:09<00:00,  3.12it/s]\n",
            "                   all      0.708          1\n",
            "Speed: 0.1ms preprocess, 0.4ms inference, 0.0ms loss, 0.0ms postprocess per image\n",
            "Results saved to \u001b[1mruns/classify/train\u001b[0m\n",
            "Results saved to \u001b[1mruns/classify/train\u001b[0m\n",
            "💡 Learn more at https://docs.ultralytics.com/modes/train\n"
          ]
        }
      ]
    },
    {
      "cell_type": "markdown",
      "source": [
        "# Persist the outputs"
      ],
      "metadata": {
        "id": "t4HhN8paATR5"
      }
    },
    {
      "cell_type": "code",
      "source": [
        "from google.colab import drive\n",
        "drive.mount('/content/gdrive')"
      ],
      "metadata": {
        "colab": {
          "base_uri": "https://localhost:8080/"
        },
        "id": "83JYU7PQsIuU",
        "outputId": "c3c8b638-e867-4995-fd5b-30e65407f687"
      },
      "execution_count": 24,
      "outputs": [
        {
          "output_type": "stream",
          "name": "stdout",
          "text": [
            "Mounted at /content/gdrive\n"
          ]
        }
      ]
    },
    {
      "cell_type": "code",
      "source": [
        "# !ls /content/gdrive/MyDrive/\n",
        "# !ls -lta /content/datasets/report-it-highways-1\n",
        "# !ls -lta /content/datasets\n",
        "# !ls -lta /content\n",
        "\n",
        "!mkdir /content/gdrive/MyDrive/yolov8_classification_model/\n",
        "!mkdir /content/gdrive/MyDrive/yolov8_classification_model/runs\n",
        "!mkdir /content/gdrive/MyDrive/yolov8_classification_model/runs/classify\n",
        "!mkdir /content/gdrive/MyDrive/yolov8_classification_model/runs/classify/train/"
      ],
      "metadata": {
        "colab": {
          "base_uri": "https://localhost:8080/"
        },
        "id": "rbLLOEY7sI0Y",
        "outputId": "fa40742f-3d53-4784-9df4-7b86fc41e794"
      },
      "execution_count": 62,
      "outputs": [
        {
          "output_type": "stream",
          "name": "stdout",
          "text": [
            "mkdir: cannot create directory ‘/content/gdrive/MyDrive/yolov8_classification_model/’: File exists\n",
            "mkdir: cannot create directory ‘/content/gdrive/MyDrive/yolov8_classification_model/runs’: File exists\n",
            "mkdir: cannot create directory ‘/content/gdrive/MyDrive/yolov8_classification_model/runs/classify’: File exists\n",
            "mkdir: cannot create directory ‘/content/gdrive/MyDrive/yolov8_classification_model/runs/classify/train/’: File exists\n"
          ]
        }
      ]
    },
    {
      "cell_type": "code",
      "source": [
        "!cp /content/yolov8n-cls.pt /content/gdrive/MyDrive/yolov8_classification_model/yolov8n-cls_original.pt"
      ],
      "metadata": {
        "id": "HqIWUozYB7hf"
      },
      "execution_count": 63,
      "outputs": []
    },
    {
      "cell_type": "code",
      "source": [
        "!cp /content/datasets/yolov8n-cls.pt /content/gdrive/MyDrive/yolov8_classification_model/yolov8n-cls.pt"
      ],
      "metadata": {
        "id": "WCr5I-3wB_Iq"
      },
      "execution_count": 50,
      "outputs": []
    },
    {
      "cell_type": "code",
      "source": [
        "!cp /content/datasets/yolov8n.pt /content/gdrive/MyDrive/yolov8_classification_model/yolov8n.pt"
      ],
      "metadata": {
        "id": "5ZdbYKcsCAeL"
      },
      "execution_count": null,
      "outputs": []
    },
    {
      "cell_type": "code",
      "source": [
        "!cp -r /content/datasets/runs/classify/train/* /content/gdrive/MyDrive/yolov8_classification_model/runs/classify/train/"
      ],
      "metadata": {
        "id": "Aidor0hICgSy"
      },
      "execution_count": 61,
      "outputs": []
    },
    {
      "cell_type": "code",
      "source": [
        "!ls /content/gdrive/MyDrive/yolov8_classification_model/runs/classify/train/"
      ],
      "metadata": {
        "colab": {
          "base_uri": "https://localhost:8080/"
        },
        "id": "cXhVRb_hCfPl",
        "outputId": "08a37b57-96eb-40af-f19f-c6a98fe3d08f"
      },
      "execution_count": 64,
      "outputs": [
        {
          "output_type": "stream",
          "name": "stdout",
          "text": [
            "args.yaml\t\t\t\t\t    train_batch16880.jpg   val_batch1_labels.jpg\n",
            "confusion_matrix_normalized.png\t\t\t    train_batch16881.jpg   val_batch1_pred.jpg\n",
            "confusion_matrix.png\t\t\t\t    train_batch16882.jpg   val_batch2_labels.jpg\n",
            "events.out.tfevents.1715767783.2118369b9d3f.3294.0  train_batch1.jpg\t   val_batch2_pred.jpg\n",
            "results.csv\t\t\t\t\t    train_batch2.jpg\t   weights\n",
            "results.png\t\t\t\t\t    val_batch0_labels.jpg\n",
            "train_batch0.jpg\t\t\t\t    val_batch0_pred.jpg\n"
          ]
        }
      ]
    }
  ]
}